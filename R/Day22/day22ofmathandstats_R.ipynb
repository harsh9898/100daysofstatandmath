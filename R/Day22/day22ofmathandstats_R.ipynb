{
  "nbformat": 4,
  "nbformat_minor": 0,
  "metadata": {
    "colab": {
      "name": "day22ofmathandstats_R.ipynb",
      "provenance": []
    },
    "kernelspec": {
      "name": "ir",
      "display_name": "R"
    },
    "language_info": {
      "name": "R"
    }
  },
  "cells": [
    {
      "cell_type": "markdown",
      "source": [
        "## R"
      ],
      "metadata": {
        "id": "lrOk7wFeB5rO"
      }
    },
    {
      "cell_type": "code",
      "source": [
        "install.packages('boot')"
      ],
      "metadata": {
        "colab": {
          "base_uri": "https://localhost:8080/"
        },
        "id": "my2_rrFj1OJq",
        "outputId": "f22aa15d-d624-4db9-9c39-ad002327123d"
      },
      "execution_count": 1,
      "outputs": [
        {
          "output_type": "stream",
          "name": "stderr",
          "text": [
            "Installing package into ‘/usr/local/lib/R/site-library’\n",
            "(as ‘lib’ is unspecified)\n",
            "\n"
          ]
        }
      ]
    },
    {
      "cell_type": "code",
      "execution_count": 3,
      "metadata": {
        "id": "up3a84fcx1QX"
      },
      "outputs": [],
      "source": [
        "library(dplyr)\n",
        "library(tidyr)\n",
        "library(ggplot2)\n",
        "library(magrittr) # for %>% operator\n",
        "#install.packages('corrplot')\n",
        "library(boot)"
      ]
    },
    {
      "cell_type": "markdown",
      "source": [
        "### Bootstrapping\n",
        "\n"
      ],
      "metadata": {
        "id": "pViAlsx38Ufz"
      }
    },
    {
      "cell_type": "code",
      "source": [
        "loan_inc <- read.csv('/content/loans_income.csv', stringsAsFactors = FALSE)"
      ],
      "metadata": {
        "id": "q6xNqnR11zXn"
      },
      "execution_count": 4,
      "outputs": []
    },
    {
      "cell_type": "code",
      "source": [
        "loan_income <- loan_inc[,1]"
      ],
      "metadata": {
        "id": "FMdZJDzm3MGS"
      },
      "execution_count": 18,
      "outputs": []
    },
    {
      "cell_type": "code",
      "source": [
        "library(boot)\n",
        "stat_fun <- function(x, idx) median(x[idx])\n"
      ],
      "metadata": {
        "id": "XHNEeHWjR4A6"
      },
      "execution_count": 19,
      "outputs": []
    },
    {
      "cell_type": "code",
      "source": [
        "boot_obj <- boot(loan_income, R=2000, statistic=stat_fun)\n",
        "boot_obj"
      ],
      "metadata": {
        "colab": {
          "base_uri": "https://localhost:8080/",
          "height": 220
        },
        "id": "ZtbKpLoS2wLi",
        "outputId": "0e3a54ee-1421-4232-8b11-1ef3571c9970"
      },
      "execution_count": 20,
      "outputs": [
        {
          "output_type": "display_data",
          "data": {
            "text/plain": [
              "\n",
              "ORDINARY NONPARAMETRIC BOOTSTRAP\n",
              "\n",
              "\n",
              "Call:\n",
              "boot(data = loan_income, statistic = stat_fun, R = 2000)\n",
              "\n",
              "\n",
              "Bootstrap Statistics :\n",
              "    original    bias    std. error\n",
              "t1*    62000 -77.92525    222.0136"
            ]
          },
          "metadata": {}
        }
      ]
    }
  ]
}