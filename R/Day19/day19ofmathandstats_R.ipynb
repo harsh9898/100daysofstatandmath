{
  "nbformat": 4,
  "nbformat_minor": 0,
  "metadata": {
    "colab": {
      "name": "day19ofmathandstats_R.ipynb",
      "provenance": []
    },
    "kernelspec": {
      "name": "ir",
      "display_name": "R"
    },
    "language_info": {
      "name": "R"
    }
  },
  "cells": [
    {
      "cell_type": "markdown",
      "source": [
        "## R"
      ],
      "metadata": {
        "id": "lrOk7wFeB5rO"
      }
    },
    {
      "cell_type": "code",
      "execution_count": 2,
      "metadata": {
        "id": "up3a84fcx1QX",
        "colab": {
          "base_uri": "https://localhost:8080/"
        },
        "outputId": "fb37c24c-50a1-4574-8fd2-3d38e07630ba"
      },
      "outputs": [
        {
          "output_type": "stream",
          "name": "stderr",
          "text": [
            "\n",
            "Attaching package: ‘dplyr’\n",
            "\n",
            "\n",
            "The following objects are masked from ‘package:stats’:\n",
            "\n",
            "    filter, lag\n",
            "\n",
            "\n",
            "The following objects are masked from ‘package:base’:\n",
            "\n",
            "    intersect, setdiff, setequal, union\n",
            "\n",
            "\n",
            "\n",
            "Attaching package: ‘magrittr’\n",
            "\n",
            "\n",
            "The following object is masked from ‘package:tidyr’:\n",
            "\n",
            "    extract\n",
            "\n",
            "\n"
          ]
        }
      ],
      "source": [
        "library(dplyr)\n",
        "library(tidyr)\n",
        "library(ggplot2)\n",
        "library(magrittr) # for %>% operator\n",
        "#install.packages('corrplot')\n"
      ]
    },
    {
      "cell_type": "markdown",
      "source": [
        "### Sampling distribution of a statistic\n",
        "\n"
      ],
      "metadata": {
        "id": "pViAlsx38Ufz"
      }
    },
    {
      "cell_type": "markdown",
      "source": [
        "##### take a simple random sample"
      ],
      "metadata": {
        "id": "I8zUI5nsPCPp"
      }
    },
    {
      "cell_type": "code",
      "source": [
        "loan_inc <- read.csv('/content/loans_income.csv', stringsAsFactors = FALSE)\n",
        "loan_inc <- loan_inc[1,]"
      ],
      "metadata": {
        "id": "XHNEeHWjR4A6"
      },
      "execution_count": 23,
      "outputs": []
    },
    {
      "cell_type": "code",
      "source": [
        "\n",
        "samp_data <- data.frame(income=sample(loan_inc, 500),\n",
        "                        type='data_dist')\n",
        "\n"
      ],
      "metadata": {
        "id": "JLAPzneY3rYw"
      },
      "execution_count": 24,
      "outputs": []
    },
    {
      "cell_type": "markdown",
      "source": [
        "##### take a sample of means of 5 values"
      ],
      "metadata": {
        "id": "GrokO0WqO-7a"
      }
    },
    {
      "cell_type": "code",
      "source": [
        "samp_mean_05 <- data.frame(\n",
        "  income = tapply(sample(loan_inc, 500*5),\n",
        "                  rep(1:500, rep(5, 500)), FUN=mean),\n",
        "  type = 'mean_of_5')"
      ],
      "metadata": {
        "id": "55PotdPYO-M4"
      },
      "execution_count": 25,
      "outputs": []
    },
    {
      "cell_type": "markdown",
      "source": [
        "##### take a sample of means of 20 values"
      ],
      "metadata": {
        "id": "e5-ZcZPXO_jc"
      }
    },
    {
      "cell_type": "code",
      "source": [
        "samp_mean_20 <- data.frame(\n",
        "  income = tapply(sample(loan_inc, 500*20),\n",
        "                  rep(1:500, rep(20, 500)), FUN=mean),\n",
        "  type = 'mean_of_20')"
      ],
      "metadata": {
        "id": "cxfibPsFO-Hm"
      },
      "execution_count": 26,
      "outputs": []
    },
    {
      "cell_type": "markdown",
      "source": [
        "##### bind the data.frames and convert type to a factor"
      ],
      "metadata": {
        "id": "iU8qo2b1PL2b"
      }
    },
    {
      "cell_type": "code",
      "source": [
        "income <- rbind(samp_data, samp_mean_05, samp_mean_20)\n",
        "income$type = factor(income$type,\n",
        "                     levels=c('data_dist', 'mean_of_5', 'mean_of_20'),\n",
        "                     labels=c('Data', 'Mean of 5', 'Mean of 20'))"
      ],
      "metadata": {
        "id": "6t2-fKKzO-Ey"
      },
      "execution_count": 27,
      "outputs": []
    },
    {
      "cell_type": "markdown",
      "source": [
        "#####  plot the histograms"
      ],
      "metadata": {
        "id": "soVDiIfSPMjF"
      }
    },
    {
      "cell_type": "code",
      "source": [
        "ggplot(income, aes(x=income)) +\n",
        "  geom_histogram(bins=40) +\n",
        "  facet_grid(type ~ .)"
      ],
      "metadata": {
        "colab": {
          "base_uri": "https://localhost:8080/",
          "height": 437
        },
        "id": "F9aVE0KsO-By",
        "outputId": "17e33a3b-2d3f-4b02-fa6e-adf15a304e4a"
      },
      "execution_count": 28,
      "outputs": [
        {
          "output_type": "display_data",
          "data": {
            "image/png": "[encoded data removed]",
            "text/plain": [
              "plot without title"
            ]
          },
          "metadata": {
            "image/png": {
              "width": 420,
              "height": 420
            }
          }
        }
      ]
    }
  ]
}