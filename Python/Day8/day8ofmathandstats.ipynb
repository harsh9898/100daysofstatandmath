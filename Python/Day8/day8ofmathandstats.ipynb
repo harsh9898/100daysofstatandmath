{
  "nbformat": 4,
  "nbformat_minor": 0,
  "metadata": {
    "colab": {
      "name": "day8ofmathandstats.ipynb",
      "provenance": []
    },
    "kernelspec": {
      "name": "python3",
      "display_name": "Python 3"
    },
    "language_info": {
      "name": "python"
    }
  },
  "cells": [
    {
      "cell_type": "code",
      "execution_count": null,
      "metadata": {
        "id": "up3a84fcx1QX"
      },
      "outputs": [],
      "source": [
        "%matplotlib inline\n",
        "import pandas as pd\n",
        "import numpy as np\n",
        "import seaborn as sns\n",
        "import matplotlib.pylab as plt"
      ]
    },
    {
      "cell_type": "markdown",
      "source": [
        "### Box plot for mtcars' wt column, in which we can see two data points are outside of the quantiles"
      ],
      "metadata": {
        "id": "pViAlsx38Ufz"
      }
    },
    {
      "cell_type": "code",
      "source": [
        "data = pd.read_csv('/content/mtcars.csv')\n",
        "\n",
        "ax = (data['mpg']).plot.box(figsize=(3, 4))\n",
        "ax.set_ylabel('MPG')\n",
        "\n",
        "plt.tight_layout()\n",
        "plt.show()"
      ],
      "metadata": {
        "colab": {
          "base_uri": "https://localhost:8080/",
          "height": 297
        },
        "id": "RmIcK8U9zFz6",
        "outputId": "37990bc1-7d17-4c24-8142-88671831ab68"
      },
      "execution_count": null,
      "outputs": [
        {
          "output_type": "display_data",
          "data": {
            "image/png": "[encoded data removed]",
            "text/plain": [
              "<Figure size 216x288 with 1 Axes>"
            ]
          },
          "metadata": {
            "needs_background": "light"
          }
        }
      ]
    },
    {
      "cell_type": "markdown",
      "source": [
        "### Frequency Table for mtcars' cylinder to get the frequency of each car"
      ],
      "metadata": {
        "id": "CUkuycQ_8nzd"
      }
    },
    {
      "cell_type": "code",
      "source": [
        "cyl_bins = pd.cut(data['cyl'], 3)\n",
        "print(cyl_bins.value_counts())"
      ],
      "metadata": {
        "id": "KaoDGbRY4bXT",
        "colab": {
          "base_uri": "https://localhost:8080/"
        },
        "outputId": "e04a1b7a-5420-43b6-f8a4-45fdb26f3bc2"
      },
      "execution_count": null,
      "outputs": [
        {
          "output_type": "stream",
          "name": "stdout",
          "text": [
            "(6.667, 8.0]      14\n",
            "(3.996, 5.333]    11\n",
            "(5.333, 6.667]     7\n",
            "Name: cyl, dtype: int64\n"
          ]
        }
      ]
    },
    {
      "cell_type": "markdown",
      "source": [
        "### Histogram based on frequency table of cyl column"
      ],
      "metadata": {
        "id": "TQyWb0pP9Jsi"
      }
    },
    {
      "cell_type": "code",
      "source": [
        "ax = (data['cyl']).plot.hist(figsize=(4, 4))\n",
        "ax.set_xlabel('CYL')\n",
        "\n",
        "plt.tight_layout()\n",
        "plt.show()"
      ],
      "metadata": {
        "colab": {
          "base_uri": "https://localhost:8080/",
          "height": 297
        },
        "id": "6LOt573F5cs1",
        "outputId": "a3945e44-deb4-46a9-d478-851880dc4e8a"
      },
      "execution_count": null,
      "outputs": [
        {
          "output_type": "display_data",
          "data": {
            "image/png": "[encoded data removed]",
            "text/plain": [
              "<Figure size 288x288 with 1 Axes>"
            ]
          },
          "metadata": {
            "needs_background": "light"
          }
        }
      ]
    },
    {
      "cell_type": "markdown",
      "source": [
        "### Density plot (smooth version of histogram)"
      ],
      "metadata": {
        "id": "5puosYIL9T7P"
      }
    },
    {
      "cell_type": "code",
      "source": [
        "ax = (data['cyl']).plot.hist(figsize=(4, 4), density = True)\n",
        "data['cyl'].plot.density(ax=ax)\n",
        "ax.set_xlabel('Cylinders')\n",
        "\n",
        "plt.tight_layout()\n",
        "plt.show()"
      ],
      "metadata": {
        "colab": {
          "base_uri": "https://localhost:8080/",
          "height": 297
        },
        "id": "zYOBXtqk_Rht",
        "outputId": "d471c45a-ad6a-4528-8f65-20388d1cb56f"
      },
      "execution_count": 7,
      "outputs": [
        {
          "output_type": "display_data",
          "data": {
            "image/png": "[encoded data removed]",
            "text/plain": [
              "<Figure size 288x288 with 1 Axes>"
            ]
          },
          "metadata": {
            "needs_background": "light"
          }
        }
      ]
    },
    {
      "cell_type": "code",
      "source": [
        "ax = (data['mpg']).plot.hist(figsize=(4, 4), density = True)\n",
        "data['mpg'].plot.density(ax=ax)\n",
        "ax.set_xlabel('MPG')\n",
        "\n",
        "plt.tight_layout()\n",
        "plt.show()"
      ],
      "metadata": {
        "colab": {
          "base_uri": "https://localhost:8080/",
          "height": 297
        },
        "id": "vKDhNLXx6BxO",
        "outputId": "04bd7c3b-08ad-43d0-fb29-c572c237e6b1"
      },
      "execution_count": 8,
      "outputs": [
        {
          "output_type": "display_data",
          "data": {
            "image/png": "[encoded data removed]",
            "text/plain": [
              "<Figure size 288x288 with 1 Axes>"
            ]
          },
          "metadata": {
            "needs_background": "light"
          }
        }
      ]
    }
  ]
}