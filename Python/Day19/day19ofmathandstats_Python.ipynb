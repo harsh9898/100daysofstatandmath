{
  "nbformat": 4,
  "nbformat_minor": 0,
  "metadata": {
    "colab": {
      "name": " day19ofmathandstats_Python.ipynb",
      "provenance": []
    },
    "kernelspec": {
      "name": "python3",
      "display_name": "Python 3"
    },
    "language_info": {
      "name": "python"
    }
  },
  "cells": [
    {
      "cell_type": "markdown",
      "source": [
        "## Python"
      ],
      "metadata": {
        "id": "lrOk7wFeB5rO"
      }
    },
    {
      "cell_type": "code",
      "execution_count": 1,
      "metadata": {
        "id": "up3a84fcx1QX"
      },
      "outputs": [],
      "source": [
        "%matplotlib inline\n",
        "\n",
        "from pathlib import Path\n",
        "import pandas as pd\n",
        "import numpy as np\n",
        "from scipy import stats\n",
        "from sklearn.utils import resample\n",
        "\n",
        "import seaborn as sns\n",
        "import matplotlib.pylab as plt"
      ]
    },
    {
      "cell_type": "markdown",
      "source": [
        "### Sampling distribution of a statistic\n",
        "\n"
      ],
      "metadata": {
        "id": "pViAlsx38Ufz"
      }
    },
    {
      "cell_type": "markdown",
      "source": [
        "##### take a simple random sample"
      ],
      "metadata": {
        "id": "I8zUI5nsPCPp"
      }
    },
    {
      "cell_type": "code",
      "source": [
        "loan_inc = pd.read_csv('/content/loans_income.csv', squeeze= True)\n"
      ],
      "metadata": {
        "id": "XHNEeHWjR4A6"
      },
      "execution_count": 6,
      "outputs": []
    },
    {
      "cell_type": "code",
      "source": [
        "sample_data = pd.DataFrame({\n",
        "    'income': loan_inc.sample(1000),\n",
        "    'type': 'Data',\n",
        "})"
      ],
      "metadata": {
        "id": "JLAPzneY3rYw"
      },
      "execution_count": 7,
      "outputs": []
    },
    {
      "cell_type": "markdown",
      "source": [
        "##### take a sample of means of 5 values"
      ],
      "metadata": {
        "id": "GrokO0WqO-7a"
      }
    },
    {
      "cell_type": "code",
      "source": [
        "sample_mean_05 = pd.DataFrame({\n",
        "    'income': [loan_inc.sample(5).mean() for _ in range(1000)],\n",
        "    'type': 'Mean of 5',\n",
        "})"
      ],
      "metadata": {
        "id": "55PotdPYO-M4"
      },
      "execution_count": 8,
      "outputs": []
    },
    {
      "cell_type": "markdown",
      "source": [
        "##### take a sample of means of 20 values"
      ],
      "metadata": {
        "id": "e5-ZcZPXO_jc"
      }
    },
    {
      "cell_type": "code",
      "source": [
        "sample_mean_20 = pd.DataFrame({\n",
        "    'income': [loan_inc.sample(20).mean() for _ in range(1000)],\n",
        "    'type': 'Mean of 20',\n",
        "})"
      ],
      "metadata": {
        "id": "cxfibPsFO-Hm"
      },
      "execution_count": 9,
      "outputs": []
    },
    {
      "cell_type": "markdown",
      "source": [
        "##### bind the data.frames and convert type to a factor"
      ],
      "metadata": {
        "id": "iU8qo2b1PL2b"
      }
    },
    {
      "cell_type": "code",
      "source": [
        "results = pd.concat([sample_data, sample_mean_05, sample_mean_20])"
      ],
      "metadata": {
        "id": "6t2-fKKzO-Ey"
      },
      "execution_count": 12,
      "outputs": []
    },
    {
      "cell_type": "markdown",
      "source": [
        "#####  plot the histograms"
      ],
      "metadata": {
        "id": "soVDiIfSPMjF"
      }
    },
    {
      "cell_type": "code",
      "source": [
        "plot = sns.FacetGrid(results, col='type', col_wrap=1, \n",
        "                  height=2, aspect=2)\n",
        "plot.map(plt.hist, 'income', range=[0, 200000], bins=40)\n",
        "plot.set_axis_labels('Income', 'Count')\n",
        "plot.set_titles('{col_name}')\n",
        "\n",
        "plt.tight_layout()\n",
        "plt.show()"
      ],
      "metadata": {
        "colab": {
          "base_uri": "https://localhost:8080/",
          "height": 441
        },
        "id": "F9aVE0KsO-By",
        "outputId": "23c3779b-438c-47f2-91ec-f84fb66e799f"
      },
      "execution_count": 11,
      "outputs": [
        {
          "output_type": "display_data",
          "data": {
            "image/png": "[encoded data removed]",
            "text/plain": [
              "<Figure size 288x432 with 3 Axes>"
            ]
          },
          "metadata": {
            "needs_background": "light"
          }
        }
      ]
    },
    {
      "cell_type": "code",
      "source": [
        ""
      ],
      "metadata": {
        "id": "WRtgfkAdTtom"
      },
      "execution_count": null,
      "outputs": []
    }
  ]
}