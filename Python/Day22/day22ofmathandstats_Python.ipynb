{
  "nbformat": 4,
  "nbformat_minor": 0,
  "metadata": {
    "colab": {
      "name": "day22ofmathandstats_Python.ipynb",
      "provenance": []
    },
    "kernelspec": {
      "name": "python3",
      "display_name": "Python 3"
    },
    "language_info": {
      "name": "python"
    }
  },
  "cells": [
    {
      "cell_type": "markdown",
      "source": [
        "## Python"
      ],
      "metadata": {
        "id": "lrOk7wFeB5rO"
      }
    },
    {
      "cell_type": "code",
      "execution_count": 1,
      "metadata": {
        "id": "up3a84fcx1QX"
      },
      "outputs": [],
      "source": [
        "%matplotlib inline\n",
        "\n",
        "from pathlib import Path\n",
        "import pandas as pd\n",
        "import numpy as np\n",
        "from scipy import stats\n",
        "from sklearn.utils import resample\n",
        "\n",
        "import seaborn as sns\n",
        "import matplotlib.pylab as plt"
      ]
    },
    {
      "cell_type": "markdown",
      "source": [
        "### Bootstrapping\n",
        "\n"
      ],
      "metadata": {
        "id": "chQXXwQq4_DP"
      }
    },
    {
      "cell_type": "markdown",
      "source": [
        "##### The major Python packages don’t provide implementations of the bootstrap approach. It can be implemented using the scikit-learn method resample"
      ],
      "metadata": {
        "id": "I8zUI5nsPCPp"
      }
    },
    {
      "cell_type": "code",
      "source": [
        "loan_inc = pd.read_csv('/content/loans_income.csv', squeeze= True)\n"
      ],
      "metadata": {
        "id": "XHNEeHWjR4A6"
      },
      "execution_count": 2,
      "outputs": []
    },
    {
      "cell_type": "code",
      "source": [
        "results = []\n",
        "for nrepeat in range(1000):\n",
        "    sample = resample(loan_inc)\n",
        "    results.append(sample.median())\n",
        "results = pd.Series(results)\n"
      ],
      "metadata": {
        "id": "JLAPzneY3rYw"
      },
      "execution_count": 7,
      "outputs": []
    },
    {
      "cell_type": "code",
      "source": [
        "print('Bootstrap Statistics:')\n",
        "print(f'original: {loan_inc.median()}')\n",
        "print(f'bias: {results.mean() - loan_inc.median()}')\n",
        "print(f'std. error: {results.std()}')"
      ],
      "metadata": {
        "colab": {
          "base_uri": "https://localhost:8080/"
        },
        "id": "-4yBqmss4nXh",
        "outputId": "a82d21f7-c1fa-49e2-adf9-c1442a00de49"
      },
      "execution_count": 6,
      "outputs": [
        {
          "output_type": "stream",
          "name": "stdout",
          "text": [
            "Bootstrap Statistics:\n",
            "original: 62000.0\n",
            "bias: -83.02500000000146\n",
            "std. error: 232.88113921054162\n"
          ]
        }
      ]
    }
  ]
}