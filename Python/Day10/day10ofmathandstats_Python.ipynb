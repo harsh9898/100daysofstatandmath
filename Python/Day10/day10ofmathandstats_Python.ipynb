{
  "nbformat": 4,
  "nbformat_minor": 0,
  "metadata": {
    "colab": {
      "name": "day10ofmathandstats_Python.ipynb",
      "provenance": []
    },
    "kernelspec": {
      "name": "python3",
      "display_name": "Python 3"
    },
    "language_info": {
      "name": "python"
    }
  },
  "cells": [
    {
      "cell_type": "code",
      "execution_count": 2,
      "metadata": {
        "id": "up3a84fcx1QX"
      },
      "outputs": [],
      "source": [
        "%matplotlib inline\n",
        "import pandas as pd\n",
        "import numpy as np\n",
        "import seaborn as sns\n",
        "import matplotlib.pylab as plt"
      ]
    },
    {
      "cell_type": "markdown",
      "source": [
        "### Box plot for mtcars' wt column, in which we can see two data points are outside of the quantiles"
      ],
      "metadata": {
        "id": "pViAlsx38Ufz"
      }
    },
    {
      "cell_type": "code",
      "source": [
        "data = pd.read_csv('/content/mtcars.csv')\n",
        "\n",
        "ax = (data['cyl'].value_counts()).plot.bar(figsize=(3, 4))\n",
        "ax.set_ylabel('Count')\n",
        "ax.set_xlabel('Cylinders')\n",
        "plt.tight_layout()\n",
        "plt.show()"
      ],
      "metadata": {
        "colab": {
          "base_uri": "https://localhost:8080/",
          "height": 297
        },
        "id": "RmIcK8U9zFz6",
        "outputId": "d34a197c-2106-484b-c914-43f547a57879"
      },
      "execution_count": 5,
      "outputs": [
        {
          "output_type": "display_data",
          "data": {
            "image/png": "[encoded data removed]",
            "text/plain": [
              "<Figure size 216x288 with 1 Axes>"
            ]
          },
          "metadata": {
            "needs_background": "light"
          }
        }
      ]
    }
  ]
}